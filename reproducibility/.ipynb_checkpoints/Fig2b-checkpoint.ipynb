{
 "cells": [
  {
   "cell_type": "markdown",
   "metadata": {
    "pycharm": {
     "name": "#%% md\n"
    }
   },
   "source": [
    "# <font size=5> Train competing methods on cross-platform datasets as following (only need to be run once):  </font>\n",
    "\n"
   ]
  },
  {
   "cell_type": "code",
   "execution_count": null,
   "metadata": {
    "pycharm": {
     "name": "#%%\n"
    }
   },
   "outputs": [],
   "source": [
    "# cd competing_methods/\n",
    "# !Rscript cellid.R\n",
    "# !Rscript scclassify.R\n",
    "# !Rscript SingleCellNet_SingleR_scmap_Seurat.R # including {SingleCellNet, scmap, SingleR, Seurat-CCA, Seurat-PCA}\n",
    "# !Rscript SingleR_scmap_Seurat_on_mouse_brain.R # including {scmap, SingleR, Seurat-PCA} on big-data (mouse brain)\n",
    "# !python scanvi.py\n",
    "# !python scNym.py\n",
    "# cd /competing_methods/scGCN/scGCN\n",
    "# !bash run_scGCN_all.sh"
   ]
  },
  {
   "cell_type": "markdown",
   "metadata": {},
   "source": [
    "# <font size=5> Train GraphCS on cross-platform data </font>"
   ]
  },
  {
   "cell_type": "code",
   "execution_count": null,
   "metadata": {
    "scrolled": true
   },
   "outputs": [
    {
     "name": "stdout",
     "output_type": "stream",
     "text": [
      "> /data2/users/zengys/cluser_method/GraphCS/graph_for_big_data.py(96)convert_data_graph_construction()\r\n",
      "-> batch1_label = \"./data/\" + name + \"/Label1.csv\"\r\n",
      "(Pdb) "
     ]
    }
   ],
   "source": [
    "f=open('../cross-platforms.txt','w+')\n",
    "f.close()\n",
    "!bash run_cross-platforms.sh"
   ]
  },
  {
   "cell_type": "markdown",
   "metadata": {},
   "source": [
    "# <font size=5>Read results from GraphCS<font size>"
   ]
  },
  {
   "cell_type": "code",
   "execution_count": 17,
   "metadata": {},
   "outputs": [],
   "source": [
    "import pandas as pd\n",
    "import numpy as np\n",
    "import matplotlib.pyplot as plt\n",
    "import seaborn as sns\n",
    "import os\n",
    "import sys\n",
    "from matplotlib import cm\n",
    "from matplotlib.pyplot import MultipleLocator\n",
    "base='./'\n",
    "savepath=\"cross-platforms\""
   ]
  },
  {
   "cell_type": "code",
   "execution_count": 2,
   "metadata": {},
   "outputs": [],
   "source": [
    "with open('../'+savepath+'.txt','r+') as f:\n",
    "    acc=[]\n",
    "    for j in f:\n",
    "        acc.append(float(j[:-1]))\n",
    "    # if len(acc)<7:\n",
    "    #     acc.append(0.948)\n",
    "    csv=pd.read_csv(base+savepath+'.csv',header=0,index_col=0)\n",
    "    csv.loc['GraphCS']=acc\n",
    "    csv.to_csv(savepath+'.csv')\n",
    "    f.close()"
   ]
  },
  {
   "cell_type": "markdown",
   "metadata": {},
   "source": [
    "# <font size=5>Plot Fig2b<font size>"
   ]
  },
  {
   "cell_type": "code",
   "execution_count": 21,
   "metadata": {},
   "outputs": [],
   "source": [
    "def plot7(data_list, y_label, x_label, save_name=\"cross_platforms\"):\n",
    "    weight='bold'\n",
    "    \n",
    "    colors_dict = {\"scmap\": \"#8C564B\",\n",
    "                   \"SingleCellNet\": \"#92D050\",\n",
    "                   \"Seurat-CCA\": \"#00B0F0\",\n",
    "                   \"Seurat-PCA\": \"#F59D56\",\n",
    "                   \"SingleR\": \"#BFBFBF\",\n",
    "                   \"scGCN\": \"#8B008B\",\n",
    "                   \"GraphCS\": \"black\",\n",
    "                   \"CHETAH\": \"#CC00FF\",\n",
    "                   \"scPred\": \"#FF6699\",\n",
    "                   'scNym':'green',\n",
    "                   'scANVI':'red',\n",
    "                   'OnClass': 'gray',\n",
    "                   \"CelliD(C)\": \"cyan\",\n",
    "                   \"CelliD(G)\": \"blue\",\n",
    "                   \"scClassify\": \"#E74C3C\"}\n",
    "\n",
    "    figure, ax = plt.subplots()\n",
    "    figure.set_size_inches((9,6))\n",
    "    bplot1 = ax.boxplot(data_list,\n",
    "                        #notch=True,\n",
    "                        patch_artist=True,\n",
    "                        showmeans=False,\n",
    "                        showfliers=False,\n",
    "                        meanprops=dict(marker='^',\n",
    "                                       markeredgecolor='#694d9f',\n",
    "                                       markerfacecolor='#694d9f')\n",
    "                        )\n",
    "\n",
    "    for patch, color in zip(bplot1['boxes'], x_label):\n",
    "        patch.set_facecolor(colors_dict[color])\n",
    "    ax.set_ylim([0,1])\n",
    "    ax.yaxis.grid(True)\n",
    "    ax.set_ylabel(y_label, fontsize=34, fontweight=weight)\n",
    "    plt.yticks(fontsize=16)\n",
    "    xticks = range(len(x_label))\n",
    "    xticks = [i + 1 for i in xticks]\n",
    "    plt.setp(ax, xticks=xticks,\n",
    "             xticklabels=x_label)\n",
    "    plt.xticks(rotation=30, fontsize=15,weight=weight,ha='right')\n",
    "    plt.yticks(weight=weight,fontsize=15,)\n",
    "    plt.tight_layout()\n",
    "\n",
    "    ax = plt.gca()\n",
    "    ax.spines['right'].set_visible(False)\n",
    "    ax.spines['top'].set_visible(False)\n",
    "    if weight:\n",
    "        ax.spines['bottom'].set_linewidth(2)\n",
    "        ax.spines['left'].set_linewidth(2)\n",
    "\n",
    "    plt.savefig('./figures/{}.png'.format(save_name), dpi=400, format='png')\n",
    "    plt.show()"
   ]
  },
  {
   "cell_type": "code",
   "execution_count": 22,
   "metadata": {},
   "outputs": [
    {
     "name": "stdout",
     "output_type": "stream",
     "text": [
      "Index(['CelliD(G)', 'Seurat-CCA', 'scClassify', 'scmap', 'scGCN', 'SingleR',\n",
      "       'scANVI', 'CelliD(C)', 'Seurat-PCA', 'SingleCellNet', 'scNym',\n",
      "       'GraphCS'],\n",
      "      dtype='object')\n"
     ]
    },
    {
     "data": {
      "image/png": "[encoded data removed]",
      "text/plain": [
       "<Figure size 648x432 with 1 Axes>"
      ]
     },
     "metadata": {
      "needs_background": "light"
     },
     "output_type": "display_data"
    }
   ],
   "source": [
    "df = pd.read_csv(base+\"cross-platforms.csv\", index_col=0, header=0)\n",
    "df['sort']=[np.mean(df.loc[i][df.loc[i]>0]) for i in df.index]\n",
    "df=df.sort_values(by='sort', ascending=True)\n",
    "data_list = df.iloc[:,:-1].to_numpy().T\n",
    "y_title = \"Accuracy\"\n",
    "x_label = df.index\n",
    "print(x_label)\n",
    "plot7(data_list, y_title, x_label)"
   ]
  },
  {
   "cell_type": "code",
   "execution_count": null,
   "metadata": {},
   "outputs": [],
   "source": []
  }
 ],
 "metadata": {
  "kernelspec": {
   "display_name": "Python [conda env:.conda-zengys]",
   "language": "python",
   "name": "conda-env-.conda-zengys-py"
  },
  "language_info": {
   "codemirror_mode": {
    "name": "ipython",
    "version": 3
   },
   "file_extension": ".py",
   "mimetype": "text/x-python",
   "name": "python",
   "nbconvert_exporter": "python",
   "pygments_lexer": "ipython3",
   "version": "3.6.10"
  },
  "pycharm": {
   "stem_cell": {
    "cell_type": "raw",
    "metadata": {
     "collapsed": false
    },
    "source": [
     "\n"
    ]
   }
  }
 },
 "nbformat": 4,
 "nbformat_minor": 4
}
